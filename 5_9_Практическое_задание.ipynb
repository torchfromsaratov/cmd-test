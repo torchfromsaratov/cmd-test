{
 "cells": [
  {
   "cell_type": "markdown",
   "metadata": {
    "id": "DQMbBvBmCHHB"
   },
   "source": [
    "# Переменные и типы данных. Практическое задание\n",
    "\n",
    "### Цель задания\n",
    "Закрепить пройденный материал о переменных, типах данных и булевых значениях.\n",
    "\n",
    "###Что нужно сделать\n",
    "Выполните предложенные ниже задачи.\n",
    "\n",
    "###Критерии самопроверки\n",
    "Для каждой задачи:\n",
    "* Программа выполняет все описанные в задаче действия.\n",
    "* Результаты вычислений и применённых операций корректны.\n",
    "* Вывод производится в том виде, который описан в задаче.\n",
    "* Переменные имеют информативные названия.\n"
   ]
  },
  {
   "cell_type": "markdown",
   "metadata": {
    "id": "xC9zfQx09hse"
   },
   "source": [
    "1. В ячейке ниже вы видите пять переменных. Составьте из них осмысленную фразу и выведите на печать, используя конкатенацию."
   ]
  },
  {
   "cell_type": "code",
   "execution_count": 2,
   "metadata": {
    "id": "_Er7M5A6BOW5"
   },
   "outputs": [
    {
     "name": "stdout",
     "output_type": "stream",
     "text": [
      "змеи  любят  греться  на  солнце \n"
     ]
    }
   ],
   "source": [
    "# Переменные\n",
    "inf = \"греться \"\n",
    "noun = \"змеи \"\n",
    "obj = \"солнце \"\n",
    "prep = \"на \"\n",
    "verb = \"любят \"\n",
    "print(noun, verb, inf, prep, obj)"
   ]
  },
  {
   "cell_type": "code",
   "execution_count": 1,
   "metadata": {
    "id": "ZRye7O1zBTxI"
   },
   "outputs": [
    {
     "ename": "NameError",
     "evalue": "name 'noun' is not defined",
     "output_type": "error",
     "traceback": [
      "\u001b[0;31m---------------------------------------------------------------------------\u001b[0m",
      "\u001b[0;31mNameError\u001b[0m                                 Traceback (most recent call last)",
      "Cell \u001b[0;32mIn[1], line 1\u001b[0m\n\u001b[0;32m----> 1\u001b[0m \u001b[38;5;28mprint\u001b[39m(noun, verb, inf, prep, obj)\n",
      "\u001b[0;31mNameError\u001b[0m: name 'noun' is not defined"
     ]
    }
   ],
   "source": []
  },
  {
   "cell_type": "markdown",
   "metadata": {
    "id": "E9GwwHEaCz4f"
   },
   "source": [
    "2. Вы проехали на такси 15,5 километра и заплатили за поездку 520 рублей. Сохраните данные в переменные и посчитайте, сколько стоил километр вашей поездки. Выведите стоимость километра поездки на экран.\n"
   ]
  },
  {
   "cell_type": "code",
   "execution_count": 5,
   "metadata": {
    "id": "8SZO6KwpHx7v"
   },
   "outputs": [
    {
     "name": "stdout",
     "output_type": "stream",
     "text": [
      "33.5\n"
     ]
    }
   ],
   "source": [
    "# Переменные\n",
    "distance = 15.5\n",
    "price = 520\n",
    "print(str(price/distance)[0:4])\n",
    "\n",
    "\n",
    "\n",
    "# Расчёт стоимости на километр\n",
    "\n",
    "# Вывод на экран\n",
    "\n"
   ]
  },
  {
   "cell_type": "markdown",
   "metadata": {
    "id": "xXP2rrn8IOQw"
   },
   "source": [
    "3. В ячейке ниже есть несколько переменных. Проверьте, относятся ли они к типу данных «строка». Выведите для каждого результат проверки на экран.\n"
   ]
  },
  {
   "cell_type": "markdown",
   "metadata": {
    "id": "FctfjX1QIdvB"
   },
   "source": [
    "*Критерии оценки*: задание считается выполненным, если на выводе мы видим проверку для всех трех переменных и результат для каждой из них в виде True или False"
   ]
  },
  {
   "cell_type": "code",
   "execution_count": 6,
   "metadata": {
    "id": "XaqILybNGQi5"
   },
   "outputs": [
    {
     "name": "stdout",
     "output_type": "stream",
     "text": [
      "Переменная age является строкой False True False\n"
     ]
    }
   ],
   "source": [
    "# Переменные для проверки\n",
    "age = 1006\n",
    "town = 'Торжок'\n",
    "beautiful = True\n",
    "\n",
    "# Проверяем и выводим результат\n",
    "print('Переменная age является строкой', isinstance(age, str), isinstance(town, str), isinstance(beautiful, str))\n",
    "\n",
    "\n"
   ]
  },
  {
   "cell_type": "markdown",
   "metadata": {
    "id": "j_D8Y5U6GUHp"
   },
   "source": [
    "4. Посмотрите вокруг. Наверное, вы сидите в помещении (если нет, представьте любое знакомое помещение). Как вы думаете, его площадь больше 15 квадратных метров или меньше? Напишите программу, которая будет сравнивать площадь этого помещения с 15 квадратными метрами. Ширину и длину программа должна запрашивать на ввод с экрана. В итоге программа должна выводить на экран вопрос «Ваша комната больше 15 квадратных метров?» и сама же отвечать на него `True` или `False`.\n"
   ]
  },
  {
   "cell_type": "code",
   "execution_count": 10,
   "metadata": {
    "id": "nj9JahM_HbvF"
   },
   "outputs": [
    {
     "name": "stdout",
     "output_type": "stream",
     "text": [
      "3\n",
      "4\n",
      "Ваша комната больше 15 квадратных метров? False\n"
     ]
    }
   ],
   "source": [
    "# Начинаем с ввода данных с экрана, которые сохраняем в переменные. Помните про тип данных!\n",
    "\n",
    "width = int(input())\n",
    "length = int(input())\n",
    "print(\"Ваша комната больше 15 квадратных метров?\", width * length > 15)\n",
    "\n",
    "\n",
    "# Вычисляем площадь\n",
    "\n",
    "\n",
    "# Выводим на экран вопрос\n",
    "\n",
    "# Сравниваем полученную площадь с 15 квадратными метрами\n"
   ]
  },
  {
   "cell_type": "markdown",
   "metadata": {
    "id": "YfnVuKRuIvdZ"
   },
   "source": [
    "5. Напишите программу, которая запрашивает на ввод какое-то слово или фразу, а потом выводит на печать длину этой фразы.\n"
   ]
  },
  {
   "cell_type": "code",
   "execution_count": 11,
   "metadata": {
    "id": "pdQSd8RKHzPU"
   },
   "outputs": [
    {
     "name": "stdout",
     "output_type": "stream",
     "text": [
      "hwhwhw\n",
      "6\n"
     ]
    }
   ],
   "source": [
    "# Запрашиваем фразу\n",
    "phrase = input()\n",
    "print(len(phrase))\n",
    "\n",
    "# Считаем длину\n",
    "\n",
    "# Выводим длину фразы на экран\n",
    "\n"
   ]
  },
  {
   "cell_type": "markdown",
   "metadata": {
    "id": "6g_gZkuHKxJ_"
   },
   "source": [
    "6. Замените вопросительный знак так, чтобы на выводе получилось `True`.\n"
   ]
  },
  {
   "cell_type": "code",
   "execution_count": 12,
   "metadata": {
    "colab": {
     "base_uri": "https://localhost:8080/"
    },
    "id": "tP6aWWSzKxzJ",
    "outputId": "99829aad-152a-4331-8d9f-b3206074b349"
   },
   "outputs": [
    {
     "data": {
      "text/plain": [
       "True"
      ]
     },
     "execution_count": 12,
     "metadata": {},
     "output_type": "execute_result"
    }
   ],
   "source": [
    "len(\"Привет\") < 14 or type(\"Привет\") == float"
   ]
  },
  {
   "cell_type": "code",
   "execution_count": 17,
   "metadata": {
    "colab": {
     "base_uri": "https://localhost:8080/"
    },
    "id": "8Uenbo4dLiCW",
    "outputId": "0941a29c-9314-4c4e-f331-781b73872f43"
   },
   "outputs": [
    {
     "data": {
      "text/plain": [
       "True"
      ]
     },
     "execution_count": 17,
     "metadata": {},
     "output_type": "execute_result"
    }
   ],
   "source": [
    "not ((int(3.5) == 3 and not 3 < 5))"
   ]
  },
  {
   "cell_type": "code",
   "execution_count": 18,
   "metadata": {
    "colab": {
     "base_uri": "https://localhost:8080/"
    },
    "id": "VP7-FMbCMcKj",
    "outputId": "fe1f2679-809b-43bc-9b4d-35f430bd9dac"
   },
   "outputs": [
    {
     "data": {
      "text/plain": [
       "True"
      ]
     },
     "execution_count": 18,
     "metadata": {},
     "output_type": "execute_result"
    }
   ],
   "source": [
    "True * 5 == 5"
   ]
  },
  {
   "cell_type": "code",
   "execution_count": 19,
   "metadata": {
    "colab": {
     "base_uri": "https://localhost:8080/"
    },
    "id": "OsHOg26GNOvT",
    "outputId": "d1af4de5-467a-47fc-b6ce-59d3265238e3"
   },
   "outputs": [
    {
     "data": {
      "text/plain": [
       "True"
      ]
     },
     "execution_count": 19,
     "metadata": {},
     "output_type": "execute_result"
    }
   ],
   "source": [
    "float(35) != 77.0"
   ]
  },
  {
   "cell_type": "code",
   "execution_count": 20,
   "metadata": {
    "colab": {
     "base_uri": "https://localhost:8080/"
    },
    "id": "k9bJm0thNYHb",
    "outputId": "dd9d2ecc-c373-4bfe-b87c-7bc184fbdbf8"
   },
   "outputs": [
    {
     "data": {
      "text/plain": [
       "True"
      ]
     },
     "execution_count": 20,
     "metadata": {},
     "output_type": "execute_result"
    }
   ],
   "source": [
    "77 // 2 == 38 and not False"
   ]
  },
  {
   "cell_type": "code",
   "execution_count": null,
   "metadata": {},
   "outputs": [],
   "source": []
  }
 ],
 "metadata": {
  "colab": {
   "provenance": []
  },
  "kernelspec": {
   "display_name": "Python 3 (ipykernel)",
   "language": "python",
   "name": "python3"
  },
  "language_info": {
   "codemirror_mode": {
    "name": "ipython",
    "version": 3
   },
   "file_extension": ".py",
   "mimetype": "text/x-python",
   "name": "python",
   "nbconvert_exporter": "python",
   "pygments_lexer": "ipython3",
   "version": "3.11.5"
  }
 },
 "nbformat": 4,
 "nbformat_minor": 1
}
